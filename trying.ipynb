{
 "cells": [
  {
   "cell_type": "code",
   "execution_count": 1,
   "metadata": {},
   "outputs": [],
   "source": [
    "import pandas as pd"
   ]
  },
  {
   "cell_type": "code",
   "execution_count": 20,
   "metadata": {},
   "outputs": [
    {
     "name": "stdout",
     "output_type": "stream",
     "text": [
      "0       <s> yes yes yes yes no no no no yes yes yes ye...\n",
      "1       <s> yes yes yes yes no no no no yes yes yes ye...\n",
      "2       <s> yes yes yes yes no no no no yes yes yes ye...\n",
      "3       <s> yes no no no no yes yes yes yes yes yes ye...\n",
      "4       <s> yes yes yes yes no no no no yes yes yes ye...\n",
      "                              ...                        \n",
      "2863    <s> yes yes yes yes no no no no yes yes yes ye...\n",
      "2864    <s> yes yes yes yes no no no no yes yes yes ye...\n",
      "2865    <s> yes yes yes yes no no no no yes yes yes ye...\n",
      "2866    <s> yes yes yes yes yes yes yes yes yes yes ye...\n",
      "2867                                          <s> yes yes\n",
      "Name: harmony_onset, Length: 2868, dtype: object\n"
     ]
    }
   ],
   "source": [
    "# num_folders = 15\n",
    "# for i in range (num_folders):\n",
    "df = pd.read_csv(f\"C:/Users/polin/datasets/rnbert_seqs/data/train/1.csv\")\n",
    "#if (\"events\" not in df.columns):\n",
    "print(df[\"harmony_onset\"])"
   ]
  },
  {
   "cell_type": "code",
   "execution_count": 16,
   "metadata": {},
   "outputs": [
    {
     "name": "stdout",
     "output_type": "stream",
     "text": [
      "[  0.       0.5      1.       1.5      2.       4.       4.25     4.5\n",
      "   4.75     5.       5.25     5.5      5.75     6.       6.25     6.5\n",
      "   6.75     7.       7.25     7.5      7.75     8.       8.25     8.5\n",
      "   8.75     9.      10.      10.25    10.5     10.75    11.      11.25\n",
      "  11.5     11.75    12.      12.25    12.5     12.75    13.      14.\n",
      "  14.25    14.5     14.75    15.      15.25    15.5     15.75    16.\n",
      "  16.25    16.5     16.75    17.      18.      18.5     19.      19.5\n",
      "  20.      20.25    20.5     20.75    21.      21.5     21.75    22.\n",
      "  22.5     23.      23.5     24.      24.5     25.      25.5     26.\n",
      "  28.      28.25    28.5     28.75    29.      29.25    29.5     29.75\n",
      "  30.      30.25    30.5     30.75    31.      31.25    31.5     31.75\n",
      "  32.      32.25    32.5     32.75    33.      34.      34.25    34.5\n",
      "  34.75    35.      35.25    35.5     35.75    36.      36.25    36.5\n",
      "  36.75    37.      38.      38.25    38.5     38.75    39.      39.25\n",
      "  39.5     39.75    40.      40.5     41.      42.      42.5     42.75\n",
      "  43.      43.5     43.75    44.      44.5     45.      45.5     46.\n",
      "  46.5     47.      47.5     48.      48.5     49.      50.      50.5\n",
      "  50.75    51.      51.5     51.75    52.      52.5     53.      53.5\n",
      "  54.      54.5     55.      55.5     56.      56.5     57.      57.25\n",
      "  57.5     58.      58.25    58.5     58.75    59.      59.5     60.\n",
      "  60.5     61.      61.25    61.5     61.75    62.      62.25    62.5\n",
      "  63.      63.5     64.      64.5     65.      65.5     66.5     66.6875\n",
      "  66.8125  67.      67.5     68.      68.5     69.      70.      70.5\n",
      "  70.6875  70.8125  71.      71.5     72.      72.5     73.      73.5\n",
      "  74.      74.5     75.      75.5     76.      76.5     77.5     78.\n",
      "  78.5     79.      79.125   79.25    79.375   79.5     80.      80.5\n",
      "  81.5     82.      82.5     83.      83.5     84.      84.125   84.25\n",
      "  84.375   84.5     85.      85.5     86.      86.5     87.      87.5\n",
      "  88.      88.5     88.75    89.      89.5     90.      90.5     90.75\n",
      "  91.      91.5     92.      92.5     93.5     94.      94.5     95.\n",
      "  95.125   95.25    95.375   95.5     96.      96.5     97.5     98.\n",
      "  98.5     99.5    100.     100.125  100.25   100.375  100.5    101.5\n",
      " 102.     102.125  102.25   102.375  102.5    103.     103.25   103.5\n",
      " 103.75   104.     104.125  104.25   104.375  104.5    105.5    106.\n",
      " 106.125  106.25   106.375  106.5    107.     107.25   107.5    107.75\n",
      " 108.     108.125  108.25   108.375  108.5    109.5    110.     110.125\n",
      " 110.25   110.375  110.5    111.     111.25   111.5    111.75   112.\n",
      " 112.125  112.25   112.375  112.5    113.     113.25   113.5    113.75\n",
      " 114.     114.125  114.25   114.375  114.5    115.     115.25   115.5\n",
      " 115.75   116.     116.5    116.75   117.     117.25   117.5    117.75\n",
      " 118.     118.25   118.5    118.75   119.     119.25   119.5    119.75\n",
      " 120.     120.25   120.5    120.75   121.     121.5    122.     122.25\n",
      " 122.5    122.75   123.     123.5    124.     124.5    124.75   125.\n",
      " 125.25   125.5    125.75   126.     126.5    126.75   127.     127.5\n",
      " 128.     128.5    128.75   129.     129.25   129.5    130.     130.5\n",
      " 130.75   131.     131.25   131.5    132.     132.5    132.75   133.\n",
      " 133.25   133.5    134.     134.5    134.75   135.     135.25   135.5\n",
      " 136.     136.5    136.75   137.     137.25   137.5    137.75   138.\n",
      " 138.25   138.5    138.75   139.     139.25   139.5    139.75   140.\n",
      " 140.5    141.5    142.     142.5    143.     143.125  143.25   143.375\n",
      " 143.5    144.     144.5    145.5    146.     146.5    147.     147.5\n",
      " 148.     148.125  148.25   148.375  148.5    149.     149.5    150.\n",
      " 150.5    151.     151.5    152.     152.5    152.75   153.     153.5\n",
      " 154.     154.5    154.75   155.     155.5    156.     156.5    157.5\n",
      " 158.     158.5    159.     159.125  159.25   159.375  159.5    160.\n",
      " 160.5    161.5    162.     162.5    163.5    164.     164.5    165.5\n",
      " 166.     166.125  166.25   166.375  166.5    167.     167.5    168.\n",
      " 168.5    169.5    170.     170.5    172.     172.5    172.75   173.\n",
      " 174.     174.5    175.     175.5    176.     176.5    177.     177.5\n",
      " 178.     178.5    179.     179.5    180.     180.5    180.75   181.\n",
      " 182.     182.5    183.     183.5    184.     184.5    185.     185.5\n",
      " 186.     186.5    187.     187.5    188.     188.5    188.75   189.\n",
      " 190.     190.5    191.     191.5    192.     192.5    193.     193.5\n",
      " 194.     194.5    195.     195.5    196.     196.5    196.75   197.\n",
      " 198.     198.5    199.     199.5    200.     200.5    201.     201.5\n",
      " 202.     202.5    203.     203.5    204.     204.5    205.     205.5\n",
      " 206.     206.5    207.     207.5    208.     208.5    208.75   209.\n",
      " 209.5    210.     210.5    211.     211.5    212.     212.5    213.\n",
      " 213.5    214.     214.5    215.     215.5    216.     216.5    216.75\n",
      " 217.     217.5    218.     218.5    219.     219.5    220.     220.5\n",
      " 221.     221.5    222.     222.5    223.     223.5    224.     224.5\n",
      " 224.75   225.     225.5    226.     226.5    227.     227.5    228.\n",
      " 228.5    229.     229.5    230.     230.5    231.     231.5    232.\n",
      " 232.5    232.75   233.     233.5    234.     234.5    235.     235.5\n",
      " 236.     236.5    237.     237.5    238.     238.5    239.     239.5\n",
      " 240.     240.5    241.     241.5    241.75   242.     242.5    242.75\n",
      " 243.     243.5    244.     244.5    245.     245.5    246.     246.5\n",
      " 247.     247.5    248.     248.5    249.     249.5    249.75   250.\n",
      " 250.5    250.75   251.     251.5    252.     252.5    253.     253.5\n",
      " 253.75   254.     254.5    254.75   255.     255.5    256.     257.\n",
      " 258.     259.     260.     260.5    261.     261.5    262.     264.\n",
      " 264.25   264.5    264.75   265.     265.25   265.5    265.75   266.\n",
      " 266.25   266.5    266.75   267.     267.25   267.5    267.75   268.\n",
      " 268.25   268.5    268.75   269.     270.     270.25   270.5    270.75\n",
      " 271.     271.25   271.5    271.75   272.     272.25   272.5    272.75\n",
      " 273.     274.     274.25   274.5    274.75   275.     275.25   275.5\n",
      " 275.75   276.     276.25   276.5    276.75   277.     278.     278.5\n",
      " 279.     279.5    280.     280.25   280.5    280.75   281.     281.5\n",
      " 281.75   282.     282.5    283.     283.5    284.     284.5    285.\n",
      " 285.5    286.     288.     288.25   288.5    288.75   289.     289.25\n",
      " 289.5    289.75   290.     290.25   290.5    290.75   291.     291.25\n",
      " 291.5    291.75   292.     292.25   292.5    292.75   293.     294.\n",
      " 294.25   294.5    294.75   295.     295.25   295.5    295.75   296.\n",
      " 296.25   296.5    296.75   297.     298.     298.25   298.5    298.75\n",
      " 299.     299.25   299.5    299.75   300.     300.25   300.5    300.75\n",
      " 301.     301.25   301.5    301.75   302.     302.25   302.5    302.75\n",
      " 303.     303.25   303.5    303.75   304.     304.25   304.5    304.75\n",
      " 305.     305.25   305.5    305.75   306.     306.25   306.5    306.75\n",
      " 307.     307.25   307.5    307.75   308.     308.25   308.5    308.75\n",
      " 309.     309.25   309.5    309.75   310.     310.25   310.5    310.75\n",
      " 311.     311.25   311.5    311.75   312.     312.25   312.5    312.75\n",
      " 313.     313.25   313.5    313.75   314.     314.25   314.5    314.75\n",
      " 315.     315.25   315.5    315.75   316.     316.25   316.5    316.75\n",
      " 317.     317.25   317.5    317.75   318.     318.25   318.5    318.75\n",
      " 319.     319.25   319.5    319.75   320.     320.5    321.     322.\n",
      " 322.5    322.75   323.     323.5    323.75   324.     324.5    325.\n",
      " 325.5    326.     326.25   326.5    326.75   327.     327.25   327.5\n",
      " 327.75   328.     328.5    329.     330.     330.5    330.75   331.\n",
      " 331.5    331.75   332.     332.5    333.     333.5    334.     334.25\n",
      " 334.5    334.75   335.     335.25   335.5    335.75   336.     336.5\n",
      " 337.     338.     338.5    338.75   339.     339.5    339.75   340.\n",
      " 340.5    341.     341.5    342.     342.5    343.     343.5    344.\n",
      " 346.     347.     347.1875 347.3125 347.5    347.6875 347.8125 348.\n",
      " 352.    ]\n"
     ]
    }
   ],
   "source": [
    "df= pd.read_csv(f\"C:/Users/polin/datasets/rnbert_csvs/try/train/l075-01_suite_prelude.csv\")\n",
    "# feature = \"onset\"\n",
    "# print( df.iloc[0][feature].endswith(\"</s>\"))\n",
    "print(df['onset'].unique())"
   ]
  },
  {
   "cell_type": "code",
   "execution_count": 13,
   "metadata": {},
   "outputs": [
    {
     "name": "stdout",
     "output_type": "stream",
     "text": [
      "Index(['Unnamed: 0', 'original_index', 'pitch', 'onset', 'release',\n",
      "       'tie_to_next', 'tie_to_prev', 'voice', 'part', 'spelling', 'type',\n",
      "       'other', 'ts_numerator', 'ts_denominator', 'duplicated_indices',\n",
      "       'chord_tone', 'harmony_onset', 'chord_factors', 'bass_pcs',\n",
      "       'primary_degree', 'primary_alteration', 'secondary_degree',\n",
      "       'secondary_alteration', 'inversion', 'mode', 'key', 'key_pc', 'quality',\n",
      "       'granular_key', 'granular_key_pc', 'granular_mode', 'root_pc',\n",
      "       'scale_degree', 'scale_degree_step', 'scale_degree_alteration',\n",
      "       'key_signature', 'granular_key_signature', 'tonicization'],\n",
      "      dtype='object')\n"
     ]
    }
   ],
   "source": [
    "df= pd.read_csv(f\"C:/Users/polin/datasets/rnbert_csvs/try/valid/op12n05.csv\")\n",
    "# feature = \"onset\"\n",
    "# print( df.iloc[0][feature].endswith(\"</s>\"))\n",
    "print(df.columns)"
   ]
  },
  {
   "cell_type": "code",
   "execution_count": null,
   "metadata": {},
   "outputs": [
    {
     "data": {
      "text/plain": [
       "Index(['score_id', 'score_path', 'csv_path', 'transpose', 'scaled_by',\n",
       "       'start_offset', 'df_indices', 'events', 'chord_factors', 'chord_tone',\n",
       "       'harmony_onset', 'bass_pcs', 'spelling', 'primary_degree',\n",
       "       'primary_alteration', 'secondary_degree', 'secondary_alteration',\n",
       "       'inversion', 'mode', 'key', 'key_pc', 'quality', 'granular_key',\n",
       "       'granular_key_pc', 'granular_mode', 'scale_degree', 'scale_degree_step',\n",
       "       'scale_degree_alteration', 'key_signature', 'granular_key_signature',\n",
       "       'tonicization', 'key_pc_mode', 'key_signature_mode',\n",
       "       'granular_key_pc_granular_mode', 'granular_key_signature_granular_mode',\n",
       "       'primary_alteration_primary_degree',\n",
       "       'secondary_alteration_secondary_degree',\n",
       "       'primary_alteration_primary_degree_secondary_alteration_secondary_degree'],\n",
       "      dtype='object')"
      ]
     },
     "execution_count": 11,
     "metadata": {},
     "output_type": "execute_result"
    }
   ],
   "source": [
    "df.columns  # columns of 1 "
   ]
  },
  {
   "cell_type": "code",
   "execution_count": 4,
   "metadata": {},
   "outputs": [
    {
     "data": {
      "text/plain": [
       "set()"
      ]
     },
     "execution_count": 4,
     "metadata": {},
     "output_type": "execute_result"
    }
   ],
   "source": [
    "#test = pd.read_csv(\"C:/Users/polin/datasets/rnbert_seqs/data/test/1.csv\")\n",
    "    #print(test.head())\n",
    "bach = pd.read_csv(\"C:/Users/polin/datasets/rnbert_csvs_old/BachChoralesData/Bach,_Johann_Sebastian_Chorales_001.csv\")\n",
    "set_columns = set(bach.columns.values)\n",
    "set_names = set([\"chord_factors\", \"chord_tone\", \"harmony_onset\", \"bass_pcs\", \"spelling\", \"primary_degree\", \"primary_alteration\", \"secondary_degree\", \"secondary_alteration\", \"inversion\", \"mode\", \"key\", \"key_pc\", \"quality\", \"granular_key\", \"granular_key_pc\", \"granular_mode\", \"scale_degree\", \"scale_degree_step\", \"scale_degree_alteration\", \"key_signature\", \"granular_key_signature\", \"tonicization\", \"root_pc\"])\n",
    "set_intersection =set_columns.intersection(set_names)\n",
    "set_names - set_intersection"
   ]
  },
  {
   "cell_type": "code",
   "execution_count": null,
   "metadata": {},
   "outputs": [],
   "source": [
    "test = pd.read_csv(\"C:/Users/polin/datasets/rnbert_seqs/data/test/1.csv\")\n",
    "    #print(test.head())\n",
    "print(test[\"chord_factors\"].unique())"
   ]
  },
  {
   "cell_type": "code",
   "execution_count": null,
   "metadata": {},
   "outputs": [],
   "source": [
    "test = pd.read_csv(\"C:/Users/polin/datasets - Copy/rnbert_seqs/data/train/1.csv\")\n",
    "    #print(test.head())\n",
    "print(test.head())"
   ]
  },
  {
   "cell_type": "code",
   "execution_count": 27,
   "metadata": {},
   "outputs": [
    {
     "data": {
      "text/plain": [
       "True"
      ]
     },
     "execution_count": 27,
     "metadata": {},
     "output_type": "execute_result"
    }
   ],
   "source": [
    "a = []\n",
    "b = [3,4,5]\n",
    "#a = set(a)\n",
    "len(a) ==0 "
   ]
  },
  {
   "cell_type": "code",
   "execution_count": null,
   "metadata": {},
   "outputs": [],
   "source": []
  }
 ],
 "metadata": {
  "kernelspec": {
   "display_name": "bert_hf",
   "language": "python",
   "name": "python3"
  },
  "language_info": {
   "codemirror_mode": {
    "name": "ipython",
    "version": 3
   },
   "file_extension": ".py",
   "mimetype": "text/x-python",
   "name": "python",
   "nbconvert_exporter": "python",
   "pygments_lexer": "ipython3",
   "version": "3.11.4"
  }
 },
 "nbformat": 4,
 "nbformat_minor": 2
}
