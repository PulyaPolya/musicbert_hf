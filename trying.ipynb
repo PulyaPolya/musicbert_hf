{
 "cells": [
  {
   "cell_type": "code",
   "execution_count": 1,
   "metadata": {},
   "outputs": [],
   "source": [
    "import pandas as pd"
   ]
  },
  {
   "cell_type": "code",
   "execution_count": 3,
   "metadata": {},
   "outputs": [
    {
     "data": {
      "text/plain": [
       "Index(['score_id', 'score_path', 'csv_path', 'transpose', 'scaled_by',\n",
       "       'start_offset', 'df_indices', 'events', 'chord_factors', 'chord_tone',\n",
       "       'harmony_onset', 'bass_pcs', 'spelling', 'primary_degree',\n",
       "       'primary_alteration', 'secondary_degree', 'secondary_alteration',\n",
       "       'inversion', 'mode', 'key', 'key_pc', 'quality', 'granular_key',\n",
       "       'granular_key_pc', 'granular_mode', 'scale_degree', 'scale_degree_step',\n",
       "       'scale_degree_alteration', 'key_signature', 'granular_key_signature',\n",
       "       'tonicization', 'key_pc_mode', 'key_signature_mode',\n",
       "       'granular_key_pc_granular_mode', 'granular_key_signature_granular_mode',\n",
       "       'primary_alteration_primary_degree',\n",
       "       'secondary_alteration_secondary_degree',\n",
       "       'primary_alteration_primary_degree_secondary_alteration_secondary_degree'],\n",
       "      dtype='object')"
      ]
     },
     "execution_count": 3,
     "metadata": {},
     "output_type": "execute_result"
    }
   ],
   "source": [
    "csv_contents = pd.read_csv(\"C:/Users/polin/datasets/rnbert_seqs/data/train/1.csv\")\n",
    "csv_contents.columns"
   ]
  },
  {
   "cell_type": "code",
   "execution_count": 4,
   "metadata": {},
   "outputs": [
    {
     "data": {
      "text/plain": [
       "set()"
      ]
     },
     "execution_count": 4,
     "metadata": {},
     "output_type": "execute_result"
    }
   ],
   "source": [
    "#test = pd.read_csv(\"C:/Users/polin/datasets/rnbert_seqs/data/test/1.csv\")\n",
    "    #print(test.head())\n",
    "bach = pd.read_csv(\"C:/Users/polin/datasets/rnbert_csvs_old/BachChoralesData/Bach,_Johann_Sebastian_Chorales_001.csv\")\n",
    "set_columns = set(bach.columns.values)\n",
    "set_names = set([\"chord_factors\", \"chord_tone\", \"harmony_onset\", \"bass_pcs\", \"spelling\", \"primary_degree\", \"primary_alteration\", \"secondary_degree\", \"secondary_alteration\", \"inversion\", \"mode\", \"key\", \"key_pc\", \"quality\", \"granular_key\", \"granular_key_pc\", \"granular_mode\", \"scale_degree\", \"scale_degree_step\", \"scale_degree_alteration\", \"key_signature\", \"granular_key_signature\", \"tonicization\", \"root_pc\"])\n",
    "set_intersection =set_columns.intersection(set_names)\n",
    "set_names - set_intersection"
   ]
  },
  {
   "cell_type": "code",
   "execution_count": null,
   "metadata": {},
   "outputs": [],
   "source": [
    "test = pd.read_csv(\"C:/Users/polin/datasets/rnbert_seqs/data/test/1.csv\")\n",
    "    #print(test.head())\n",
    "print(test[\"chord_factors\"].unique())"
   ]
  },
  {
   "cell_type": "code",
   "execution_count": 11,
   "metadata": {},
   "outputs": [
    {
     "name": "stdout",
     "output_type": "stream",
     "text": [
      "                              score_id  \\\n",
      "0  Bach,_Johann_Sebastian_Chorales_284   \n",
      "1  Bach,_Johann_Sebastian_Chorales_284   \n",
      "2  Bach,_Johann_Sebastian_Chorales_284   \n",
      "3  Bach,_Johann_Sebastian_Chorales_284   \n",
      "4  Bach,_Johann_Sebastian_Chorales_284   \n",
      "\n",
      "                                          score_path  \\\n",
      "0  /Users/malcolm/datasets/humdrum-data/bach-js/3...   \n",
      "1  /Users/malcolm/datasets/humdrum-data/bach-js/3...   \n",
      "2  /Users/malcolm/datasets/humdrum-data/bach-js/3...   \n",
      "3  /Users/malcolm/datasets/humdrum-data/bach-js/3...   \n",
      "4  /Users/malcolm/datasets/humdrum-data/bach-js/3...   \n",
      "\n",
      "                                            csv_path  transpose  scaled_by  \\\n",
      "0  C:\\Users\\polin\\datasets\\rnbert_csvs\\BachChoral...          1        0.5   \n",
      "1  C:\\Users\\polin\\datasets\\rnbert_csvs\\BachChoral...          1        0.5   \n",
      "2  C:\\Users\\polin\\datasets\\rnbert_csvs\\BachChoral...          1        0.5   \n",
      "3  C:\\Users\\polin\\datasets\\rnbert_csvs\\BachChoral...          1        0.5   \n",
      "4  C:\\Users\\polin\\datasets\\rnbert_csvs\\BachChoral...          8        0.5   \n",
      "\n",
      "   start_offset                                         df_indices  \\\n",
      "0           0.0  [np.int64(2), np.int64(3), np.int64(4), np.int...   \n",
      "1           0.0  [np.int64(2), np.int64(3), np.int64(4), np.int...   \n",
      "2           0.0  [np.int64(2), np.int64(3), np.int64(4), np.int...   \n",
      "3           3.0  [np.int64(252), np.int64(253), np.int64(254), ...   \n",
      "4           0.0  [np.int64(2), np.int64(3), np.int64(4), np.int...   \n",
      "\n",
      "                                              events  \\\n",
      "0  <s> <s> <s> <s> <s> <s> <s> <s> <0-179> <1-0> ...   \n",
      "1  <s> <s> <s> <s> <s> <s> <s> <s> <0-156> <1-0> ...   \n",
      "2  <s> <s> <s> <s> <s> <s> <s> <s> <0-178> <1-0> ...   \n",
      "3  <s> <s> <s> <s> <s> <s> <s> <s> <0-183> <1-24>...   \n",
      "4  <s> <s> <s> <s> <s> <s> <s> <s> <0-184> <1-0> ...   \n",
      "\n",
      "                                       chord_factors  \\\n",
      "0  <s> R F T R x F T R T F T R x F T R R x T R R ...   \n",
      "1  <s> R F T R x F T R T F T R x F T R R x T R R ...   \n",
      "2  <s> R F T R x F T R T F T R x F T R R x T R R ...   \n",
      "3  <s> S R T R S R R F T T T R F T F R T x F R T ...   \n",
      "4  <s> R F T R x F T R T F T R x F T R R x T R R ...   \n",
      "\n",
      "                                          chord_tone  ...  \\\n",
      "0  <s> yes yes yes yes no yes yes yes yes yes yes...  ...   \n",
      "1  <s> yes yes yes yes no yes yes yes yes yes yes...  ...   \n",
      "2  <s> yes yes yes yes no yes yes yes yes yes yes...  ...   \n",
      "3  <s> yes yes yes yes yes yes yes yes yes yes ye...  ...   \n",
      "4  <s> yes yes yes yes no yes yes yes yes yes yes...  ...   \n",
      "\n",
      "                                       key_signature  \\\n",
      "0  <s> -1.0 -1.0 -1.0 -1.0 -1.0 -1.0 -1.0 -1.0 -1...   \n",
      "1  <s> -1.0 -1.0 -1.0 -1.0 -1.0 -1.0 -1.0 -1.0 -1...   \n",
      "2  <s> -1.0 -1.0 -1.0 -1.0 -1.0 -1.0 -1.0 -1.0 -1...   \n",
      "3  <s> -2.0 -2.0 -2.0 -2.0 -2.0 -2.0 -2.0 -2.0 -2...   \n",
      "4  <s> 6.0 6.0 6.0 6.0 6.0 6.0 6.0 6.0 6.0 6.0 6....   \n",
      "\n",
      "                              granular_key_signature  \\\n",
      "0  <s> -1.0 -1.0 -1.0 -1.0 -1.0 -1.0 -1.0 -1.0 -1...   \n",
      "1  <s> -1.0 -1.0 -1.0 -1.0 -1.0 -1.0 -1.0 -1.0 -1...   \n",
      "2  <s> -1.0 -1.0 -1.0 -1.0 -1.0 -1.0 -1.0 -1.0 -1...   \n",
      "3  <s> -2.0 -2.0 -2.0 -2.0 -2.0 -2.0 -2.0 -2.0 -2...   \n",
      "4  <s> 6.0 6.0 6.0 6.0 6.0 6.0 6.0 6.0 6.0 6.0 6....   \n",
      "\n",
      "                                        tonicization  \\\n",
      "0  <s> 0 0 0 0 0 0 0 0 0 0 0 0 0 0 0 0 0 0 0 0 0 ...   \n",
      "1  <s> 0 0 0 0 0 0 0 0 0 0 0 0 0 0 0 0 0 0 0 0 0 ...   \n",
      "2  <s> 0 0 0 0 0 0 0 0 0 0 0 0 0 0 0 0 0 0 0 0 0 ...   \n",
      "3  <s> 0 0 0 0 0 0 0 0 0 0 0 0 0 0 0 0 0 0 0 0 0 ...   \n",
      "4  <s> 0 0 0 0 0 0 0 0 0 0 0 0 0 0 0 0 0 0 0 0 0 ...   \n",
      "\n",
      "                                         key_pc_mode  \\\n",
      "0  <s> 6.0M 6.0M 6.0M 6.0M 6.0M 6.0M 6.0M 6.0M 6....   \n",
      "1  <s> 6.0M 6.0M 6.0M 6.0M 6.0M 6.0M 6.0M 6.0M 6....   \n",
      "2  <s> 6.0M 6.0M 6.0M 6.0M 6.0M 6.0M 6.0M 6.0M 6....   \n",
      "3  <s> 8.0m 8.0m 8.0m 8.0m 8.0m 8.0m 8.0m 8.0m 8....   \n",
      "4  <s> 1.0M 1.0M 1.0M 1.0M 1.0M 1.0M 1.0M 1.0M 1....   \n",
      "\n",
      "                                  key_signature_mode  \\\n",
      "0  <s> -1.0M -1.0M -1.0M -1.0M -1.0M -1.0M -1.0M ...   \n",
      "1  <s> -1.0M -1.0M -1.0M -1.0M -1.0M -1.0M -1.0M ...   \n",
      "2  <s> -1.0M -1.0M -1.0M -1.0M -1.0M -1.0M -1.0M ...   \n",
      "3  <s> -2.0m -2.0m -2.0m -2.0m -2.0m -2.0m -2.0m ...   \n",
      "4  <s> 6.0M 6.0M 6.0M 6.0M 6.0M 6.0M 6.0M 6.0M 6....   \n",
      "\n",
      "                       granular_key_pc_granular_mode  \\\n",
      "0  <s> 6.0M 6.0M 6.0M 6.0M 6.0M 6.0M 6.0M 6.0M 6....   \n",
      "1  <s> 6.0M 6.0M 6.0M 6.0M 6.0M 6.0M 6.0M 6.0M 6....   \n",
      "2  <s> 6.0M 6.0M 6.0M 6.0M 6.0M 6.0M 6.0M 6.0M 6....   \n",
      "3  <s> 8.0m 8.0m 8.0m 8.0m 8.0m 8.0m 8.0m 8.0m 8....   \n",
      "4  <s> 1.0M 1.0M 1.0M 1.0M 1.0M 1.0M 1.0M 1.0M 1....   \n",
      "\n",
      "                granular_key_signature_granular_mode  \\\n",
      "0  <s> -1.0M -1.0M -1.0M -1.0M -1.0M -1.0M -1.0M ...   \n",
      "1  <s> -1.0M -1.0M -1.0M -1.0M -1.0M -1.0M -1.0M ...   \n",
      "2  <s> -1.0M -1.0M -1.0M -1.0M -1.0M -1.0M -1.0M ...   \n",
      "3  <s> -2.0m -2.0m -2.0m -2.0m -2.0m -2.0m -2.0m ...   \n",
      "4  <s> 6.0M 6.0M 6.0M 6.0M 6.0M 6.0M 6.0M 6.0M 6....   \n",
      "\n",
      "                   primary_alteration_primary_degree  \\\n",
      "0  <s> _I _I _I _I _I _I _I _I _I _I _I _I _I _I ...   \n",
      "1  <s> _I _I _I _I _I _I _I _I _I _I _I _I _I _I ...   \n",
      "2  <s> _I _I _I _I _I _I _I _I _I _I _I _I _I _I ...   \n",
      "3  <s> _V _V _V _V _V _I _I _I _I _VII _VII _VII ...   \n",
      "4  <s> _I _I _I _I _I _I _I _I _I _I _I _I _I _I ...   \n",
      "\n",
      "               secondary_alteration_secondary_degree  \\\n",
      "0  <s> _I _I _I _I _I _I _I _I _I _I _I _I _I _I ...   \n",
      "1  <s> _I _I _I _I _I _I _I _I _I _I _I _I _I _I ...   \n",
      "2  <s> _I _I _I _I _I _I _I _I _I _I _I _I _I _I ...   \n",
      "3  <s> _I _I _I _I _I _I _I _I _I _I _I _I _I _I ...   \n",
      "4  <s> _I _I _I _I _I _I _I _I _I _I _I _I _I _I ...   \n",
      "\n",
      "  primary_alteration_primary_degree_secondary_alteration_secondary_degree  \n",
      "0  <s> _I_I _I_I _I_I _I_I _I_I _I_I _I_I _I_I _I...                       \n",
      "1  <s> _I_I _I_I _I_I _I_I _I_I _I_I _I_I _I_I _I...                       \n",
      "2  <s> _I_I _I_I _I_I _I_I _I_I _I_I _I_I _I_I _I...                       \n",
      "3  <s> _V_I _V_I _V_I _V_I _V_I _I_I _I_I _I_I _I...                       \n",
      "4  <s> _I_I _I_I _I_I _I_I _I_I _I_I _I_I _I_I _I...                       \n",
      "\n",
      "[5 rows x 38 columns]\n"
     ]
    }
   ],
   "source": [
    "test = pd.read_csv(\"C:/Users/polin/datasets - Copy/rnbert_seqs/data/train/1.csv\")\n",
    "    #print(test.head())\n",
    "print(test.head())"
   ]
  }
 ],
 "metadata": {
  "kernelspec": {
   "display_name": "bert_hf",
   "language": "python",
   "name": "python3"
  },
  "language_info": {
   "codemirror_mode": {
    "name": "ipython",
    "version": 3
   },
   "file_extension": ".py",
   "mimetype": "text/x-python",
   "name": "python",
   "nbconvert_exporter": "python",
   "pygments_lexer": "ipython3",
   "version": "3.11.4"
  }
 },
 "nbformat": 4,
 "nbformat_minor": 2
}
